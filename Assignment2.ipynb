{
 "cells": [
  {
   "cell_type": "code",
   "execution_count": null,
   "id": "beecdfe8-5706-4e16-a4fe-d5f51ddaa056",
   "metadata": {},
   "outputs": [],
   "source": [
    "Q1. How do you comment code in Python? What are the different types of comments?\n",
    "\n",
    "There are 2 types of comments in Python:\n",
    "    1.Single Line\n",
    "    2.Multi Line\n",
    "\n",
    "Use # for single line comments\n",
    "Use \"\"\" start Comments \n",
    "and again use \"\"\" anywhere to end Comments"
   ]
  },
  {
   "cell_type": "code",
   "execution_count": null,
   "id": "462f2407-a712-4663-b8d9-b6c43ba8936a",
   "metadata": {},
   "outputs": [],
   "source": [
    "Q2. What are variables in Python? How do you declare and assign values to variables?\n",
    "\n",
    "Python Variable are used to store values, its like a location for storing diffent types of data\n",
    "To declare and assign a variable just give a name of a varibale and use = and give a value\n",
    "\n",
    "Syntax: Variable_Name = Variable_Value\n",
    "Example: a=1"
   ]
  },
  {
   "cell_type": "code",
   "execution_count": null,
   "id": "cb5da335-b3d0-48d7-afac-fd863b9e7c6e",
   "metadata": {},
   "outputs": [],
   "source": [
    "Q3. How do you convert one data type to another in Python?\n",
    "\n",
    "Typecasting is the way to convert one data type to another"
   ]
  },
  {
   "cell_type": "code",
   "execution_count": null,
   "id": "2341059c-5ca2-4184-8da0-f4b5dc02b0cc",
   "metadata": {},
   "outputs": [],
   "source": [
    "Q4. How do you write and execute a Python script from the command line?\n",
    "To create a script file filename.py, we would use the following command: code filename.py open filename.py in my favourite code editor (Vscode), and write a code, then save. To execute the code type following in command line terminal: python filename.py"
   ]
  },
  {
   "cell_type": "code",
   "execution_count": 9,
   "id": "7ea2ad62-432d-43cb-90e5-0a797bb58754",
   "metadata": {},
   "outputs": [
    {
     "data": {
      "text/plain": [
       "[2, 3]"
      ]
     },
     "execution_count": 9,
     "metadata": {},
     "output_type": "execute_result"
    }
   ],
   "source": [
    "\"\"\"Q5. Given a list my_list = [1, 2, 3, 4, 5], write the code to slice the list and obtain the sub-list [2, 3].\"\"\"\n",
    "\n",
    "my_list = [1, 2, 3, 4, 5]\n",
    "sub_list = my_list [1:3]\n",
    "sub_list"
   ]
  },
  {
   "cell_type": "code",
   "execution_count": 11,
   "id": "ff2cdbb1-d4b0-49da-a42c-181d80fcec0b",
   "metadata": {},
   "outputs": [
    {
     "data": {
      "text/plain": [
       "(1+2j)"
      ]
     },
     "execution_count": 11,
     "metadata": {},
     "output_type": "execute_result"
    }
   ],
   "source": [
    "\"\"\"Q6. What is a complex number in mathematics, and how is it represented in Python?\n",
    "In mathematics, complex numbers are represented as a+bi contains real and imaginary part. While in Python complex numbers are represented using built-in type 'complex'.\"\"\"\n",
    "\n",
    "a=complex(1,2)\n",
    "a"
   ]
  },
  {
   "cell_type": "code",
   "execution_count": 13,
   "id": "ecff815d-eaea-43e1-ad95-4540b61b21c8",
   "metadata": {},
   "outputs": [
    {
     "data": {
      "text/plain": [
       "25"
      ]
     },
     "execution_count": 13,
     "metadata": {},
     "output_type": "execute_result"
    }
   ],
   "source": [
    "\"\"\"Q7. What is the correct way to declare a variable named age and assign the value 25 to it?\"\"\"\n",
    "age=25\n",
    "age"
   ]
  },
  {
   "cell_type": "code",
   "execution_count": 14,
   "id": "b32b0aa1-a509-49ed-b0a1-bf10f3836261",
   "metadata": {},
   "outputs": [
    {
     "data": {
      "text/plain": [
       "float"
      ]
     },
     "execution_count": 14,
     "metadata": {},
     "output_type": "execute_result"
    }
   ],
   "source": [
    "\"\"\"Q8. Declare a variable named price and assign the value 9.99 to it. What data type does this variable\n",
    "belong to?\"\"\"\n",
    "price=9.99\n",
    "\n",
    "#to check the type of the value use type(variable_name)\n",
    "\n",
    "type(price)\n"
   ]
  },
  {
   "cell_type": "code",
   "execution_count": 18,
   "id": "fa244194-5eb6-4797-a70e-e3166102c246",
   "metadata": {},
   "outputs": [
    {
     "name": "stdout",
     "output_type": "stream",
     "text": [
      "My Name Is: SHAHEEM QURESHI\n"
     ]
    }
   ],
   "source": [
    "\"\"\"Q9. Create a variable named name and assign your full name to it as a string. How would you print the\n",
    "value of this variable?\"\"\"\n",
    "\n",
    "name = \"SHAHEEM QURESHI\"\n",
    "\n",
    "#To print the value of a variable just type its variable-name\n",
    "name\n",
    "\n",
    "#or or use f-strings\n",
    "print (f\"My Name Is: {name}\")"
   ]
  },
  {
   "cell_type": "code",
   "execution_count": 20,
   "id": "afbd7b04-f3a6-4afe-8db2-df807185d57e",
   "metadata": {},
   "outputs": [
    {
     "data": {
      "text/plain": [
       "'World!'"
      ]
     },
     "execution_count": 20,
     "metadata": {},
     "output_type": "execute_result"
    }
   ],
   "source": [
    "#Q10. Given the string \"Hello, World!\", extract the substring \"World\".\n",
    "\n",
    "s= \"Hello, World!\"\n",
    "s[7:13]"
   ]
  },
  {
   "cell_type": "code",
   "execution_count": 36,
   "id": "967323dd-e162-4313-bbd4-263630320b1d",
   "metadata": {},
   "outputs": [
    {
     "ename": "TypeError",
     "evalue": "'str' object is not callable",
     "output_type": "error",
     "traceback": [
      "\u001b[0;31m---------------------------------------------------------------------------\u001b[0m",
      "\u001b[0;31mTypeError\u001b[0m                                 Traceback (most recent call last)",
      "Cell \u001b[0;32mIn[36], line 4\u001b[0m\n\u001b[1;32m      1\u001b[0m \u001b[38;5;66;03m#Q11. Create a variable named \"is_student\" and assign it a boolean value indicating whether you are\u001b[39;00m\n\u001b[1;32m      2\u001b[0m \u001b[38;5;66;03m#currently a student or not.\u001b[39;00m\n\u001b[0;32m----> 4\u001b[0m is_student \u001b[38;5;241m=\u001b[39m \u001b[38;5;28;43minput\u001b[39;49m\u001b[43m(\u001b[49m\u001b[38;5;124;43m\"\u001b[39;49m\u001b[38;5;124;43mAre you a student? Y or N\u001b[39;49m\u001b[38;5;124;43m\"\u001b[39;49m\u001b[43m)\u001b[49m\n\u001b[1;32m      5\u001b[0m \u001b[38;5;28;01mif\u001b[39;00m is_student \u001b[38;5;241m==\u001b[39m \u001b[38;5;124m\"\u001b[39m\u001b[38;5;124mY\u001b[39m\u001b[38;5;124m\"\u001b[39m \u001b[38;5;129;01mor\u001b[39;00m \u001b[38;5;124m\"\u001b[39m\u001b[38;5;124my\u001b[39m\u001b[38;5;124m\"\u001b[39m:\n\u001b[1;32m      6\u001b[0m     \u001b[38;5;28mprint\u001b[39m(\u001b[38;5;124m\"\u001b[39m\u001b[38;5;124mYou are a Student\u001b[39m\u001b[38;5;124m\"\u001b[39m)\n",
      "\u001b[0;31mTypeError\u001b[0m: 'str' object is not callable"
     ]
    }
   ],
   "source": [
    "#Q11. Create a variable named \"is_student\" and assign it a boolean value indicating whether you are\n",
    "#currently a student or not.\n",
    "\n",
    "is_student = input(\"Are you a student? Y or N\")\n",
    "if is_student == \"Y\" or \"y\":\n",
    "    print(\"You are a Student\")\n",
    "else:\n",
    "    print(\"You are not a Student\")"
   ]
  },
  {
   "cell_type": "code",
   "execution_count": null,
   "id": "3f63969b-6ab9-4c3d-8e02-099d63de7f98",
   "metadata": {},
   "outputs": [],
   "source": []
  }
 ],
 "metadata": {
  "kernelspec": {
   "display_name": "Python 3 (ipykernel)",
   "language": "python",
   "name": "python3"
  },
  "language_info": {
   "codemirror_mode": {
    "name": "ipython",
    "version": 3
   },
   "file_extension": ".py",
   "mimetype": "text/x-python",
   "name": "python",
   "nbconvert_exporter": "python",
   "pygments_lexer": "ipython3",
   "version": "3.10.8"
  }
 },
 "nbformat": 4,
 "nbformat_minor": 5
}
