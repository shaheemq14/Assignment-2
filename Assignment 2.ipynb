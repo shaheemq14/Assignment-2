{
 "cells": [
  {
   "cell_type": "code",
   "execution_count": 4,
   "id": "d8cd336f-923b-4d2e-86f9-1173a1dac22c",
   "metadata": {},
   "outputs": [
    {
     "name": "stdin",
     "output_type": "stream",
     "text": [
      "Are you a student? Y or N g\n"
     ]
    },
    {
     "ename": "AttributeError",
     "evalue": "'function' object has no attribute 'lower'",
     "output_type": "error",
     "traceback": [
      "\u001b[0;31m---------------------------------------------------------------------------\u001b[0m",
      "\u001b[0;31mAttributeError\u001b[0m                            Traceback (most recent call last)",
      "Cell \u001b[0;32mIn[4], line 2\u001b[0m\n\u001b[1;32m      1\u001b[0m is_student \u001b[38;5;241m=\u001b[39m \u001b[38;5;28minput\u001b[39m(\u001b[38;5;124m\"\u001b[39m\u001b[38;5;124mAre you a student? Y or N\u001b[39m\u001b[38;5;124m\"\u001b[39m)\n\u001b[0;32m----> 2\u001b[0m is_student \u001b[38;5;241m=\u001b[39m \u001b[38;5;28;43minput\u001b[39;49m\u001b[38;5;241;43m.\u001b[39;49m\u001b[43mlower\u001b[49m() \u001b[38;5;241m==\u001b[39m \u001b[38;5;124m'\u001b[39m\u001b[38;5;124my\u001b[39m\u001b[38;5;124m'\u001b[39m\n\u001b[1;32m      3\u001b[0m \u001b[38;5;28;01mif\u001b[39;00m is_student:\n\u001b[1;32m      4\u001b[0m     \u001b[38;5;28mprint\u001b[39m(\u001b[38;5;124m\"\u001b[39m\u001b[38;5;124mYou are a Student\u001b[39m\u001b[38;5;124m\"\u001b[39m)\n",
      "\u001b[0;31mAttributeError\u001b[0m: 'function' object has no attribute 'lower'"
     ]
    }
   ],
   "source": [
    "is_student = input(\"Are you a student? Y or N\")\n",
    "is_student = input.lower() == 'y'\n",
    "if is_student:\n",
    "    print(\"You are a Student\")\n",
    "else:\n",
    "    print(\"You are not a Student\")"
   ]
  },
  {
   "cell_type": "code",
   "execution_count": 3,
   "id": "adf05675-9968-4493-95dd-65d3bb3e57c2",
   "metadata": {},
   "outputs": [
    {
     "name": "stdin",
     "output_type": "stream",
     "text": [
      "Are you a student?  a\n"
     ]
    },
    {
     "name": "stdout",
     "output_type": "stream",
     "text": [
      "You are not a student\n"
     ]
    }
   ],
   "source": [
    "user_input = input(\"Are you a student? \")\n",
    "is_student = user_input.lower() == 'y'\n",
    "if is_student:\n",
    "    print(\"You are a student\")\n",
    "else:\n",
    "    print(\"You are not a student\")"
   ]
  },
  {
   "cell_type": "code",
   "execution_count": null,
   "id": "7b5b415b-feba-41d5-af4d-74efcbdc3a0b",
   "metadata": {},
   "outputs": [],
   "source": []
  }
 ],
 "metadata": {
  "kernelspec": {
   "display_name": "Python 3 (ipykernel)",
   "language": "python",
   "name": "python3"
  },
  "language_info": {
   "codemirror_mode": {
    "name": "ipython",
    "version": 3
   },
   "file_extension": ".py",
   "mimetype": "text/x-python",
   "name": "python",
   "nbconvert_exporter": "python",
   "pygments_lexer": "ipython3",
   "version": "3.10.8"
  }
 },
 "nbformat": 4,
 "nbformat_minor": 5
}
